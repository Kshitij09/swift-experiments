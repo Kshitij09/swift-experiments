{
 "cells": [
  {
   "cell_type": "code",
   "execution_count": 1,
   "metadata": {},
   "outputs": [],
   "source": [
    "import TensorFlow"
   ]
  },
  {
   "cell_type": "code",
   "execution_count": 5,
   "metadata": {},
   "outputs": [],
   "source": [
    "let logits = Tensor<Float32>(randomNormal: [10,5], mean: Tensor(0), standardDeviation: Tensor(4))\n",
    "let targets = Tensor<Int32>(randomUniform: [10], lowerBound: Tensor(0), upperBound: Tensor(5))"
   ]
  },
  {
   "cell_type": "code",
   "execution_count": 49,
   "metadata": {},
   "outputs": [
    {
     "name": "stdout",
     "output_type": "stream",
     "text": [
      "[[    2.8727098,     -6.392478,      1.880855,    -1.9273053,    0.07072892],\n",
      " [   0.05914131,     1.6100764,     3.7104495,     5.6983476,      2.533787],\n",
      " [  -0.52304804,     1.6444186, -0.0062039467,     -0.558009,     -5.157749],\n",
      " [   0.41593286,    -1.6014475,    -7.7225204,      6.705351,     -2.457097],\n",
      " [     2.189274,    -1.7688625,     1.2100112,     -6.278263,    -2.1857393],\n",
      " [   -7.7097025,     4.6581864,       4.50478,      5.238275,    -6.1538987],\n",
      " [    2.0201457,      7.484663,      2.459625,    -1.0970663,    -3.8279467],\n",
      " [  -0.75266725,     3.1662052,      4.464021,    -0.5511057,   -0.58373654],\n",
      " [    2.6289752,     1.7814076,      6.714848,     2.0201871,   -0.81952935],\n",
      " [    4.5892215,    -2.9815469,      7.974343,     5.8065143,     1.7535677]]\n",
      "[4, 4, 0, 2, 3, 0, 0, 0, 4, 1]\n"
     ]
    }
   ],
   "source": [
    "print(logits)\n",
    "print(targets)"
   ]
  },
  {
   "cell_type": "code",
   "execution_count": 47,
   "metadata": {},
   "outputs": [
    {
     "data": {
      "text/plain": [
       "[[1.0, 0.0, 0.0, 0.0, 0.0],\n",
       " [0.0, 0.0, 0.0, 1.0, 0.0],\n",
       " [0.0, 1.0, 0.0, 0.0, 0.0],\n",
       " [0.0, 0.0, 0.0, 1.0, 0.0],\n",
       " [1.0, 0.0, 0.0, 0.0, 0.0],\n",
       " [0.0, 0.0, 0.0, 1.0, 0.0],\n",
       " [0.0, 1.0, 0.0, 0.0, 0.0],\n",
       " [0.0, 0.0, 1.0, 0.0, 0.0],\n",
       " [0.0, 0.0, 1.0, 0.0, 0.0],\n",
       " [0.0, 0.0, 1.0, 0.0, 0.0]]\n"
      ]
     },
     "execution_count": 47,
     "metadata": {},
     "output_type": "execute_result"
    }
   ],
   "source": [
    "let oneHotLogits = Tensor<Float32>(oneHotAtIndices: logits.argmax(squeezingAxis: 1),\n",
    "                                   depth: logits.shape[1]); oneHotLogits"
   ]
  },
  {
   "cell_type": "code",
   "execution_count": 45,
   "metadata": {},
   "outputs": [
    {
     "name": "stdout",
     "output_type": "stream",
     "text": [
      "logits: [ 2.8727098,  -6.392478,   1.880855, -1.9273053, 0.07072892] \n",
      "Label:4 \n",
      "Loss:7.554166 \n",
      "Gradients:[   -0.06944917, -6.5742606e-06,    -0.02575787,  -0.0005715405,     0.09578515]\n"
     ]
    }
   ],
   "source": [
    "let (loss, gradients) = valueWithGradient(at: logits) {logits in \n",
    "                             softmaxCrossEntropy(logits: logits, labels: targets)\n",
    "                        }\n",
    "print(\"logits: \\(logits[0]) \\nLabel:\\(targets[0]) \\nLoss:\\(loss) \\nGradients:\\(-gradients[0])\")"
   ]
  },
  {
   "cell_type": "code",
   "execution_count": 46,
   "metadata": {},
   "outputs": [
    {
     "name": "stdout",
     "output_type": "stream",
     "text": [
      "logits: [1.0, 0.0, 0.0, 0.0, 0.0] \n",
      "Label:4 \n",
      "Loss:1.9048325 \n",
      "Gradients:[-0.04046097, -0.01488476, -0.01488476, -0.01488476,  0.08511525]\n"
     ]
    }
   ],
   "source": [
    "let (loss, gradients) = valueWithGradient(at: oneHotLogits) {logits in \n",
    "                             softmaxCrossEntropy(logits: logits, labels: targets)\n",
    "                        }\n",
    "print(\"logits: \\(oneHotLogits[0]) \\nLabel:\\(targets[0]) \\nLoss:\\(loss) \\nGradients:\\(-gradients[0])\")"
   ]
  },
  {
   "cell_type": "markdown",
   "metadata": {},
   "source": [
    "**While the gradients work fine in both the cases, raw values result in significantly higher loss as compared to loss with one-hot encoded logits**"
   ]
  },
  {
   "cell_type": "code",
   "execution_count": null,
   "metadata": {},
   "outputs": [],
   "source": []
  }
 ],
 "metadata": {
  "kernelspec": {
   "display_name": "Swift",
   "language": "swift",
   "name": "swift"
  },
  "language_info": {
   "file_extension": ".swift",
   "mimetype": "text/x-swift",
   "name": "swift",
   "version": ""
  }
 },
 "nbformat": 4,
 "nbformat_minor": 4
}
